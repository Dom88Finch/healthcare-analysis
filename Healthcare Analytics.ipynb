{
 "cells": [
  {
   "cell_type": "markdown",
   "metadata": {},
   "source": [
    "### Predicting Length of Patient stay in hospitals\n",
    "\n",
    "\n",
    "Task: Predict the Length of stay for each patient on case by case basis so that Hospitals can use this information\n",
    " for optimal resource allocation and better functioning.\n",
    " \n",
    " Motivation: During the pandemic, There has been an unpresidented demand for hospital beds to treat Covid-19 patients.\n",
    " This has make it more important to be able to discharge patients and demmand for new techniques for forecasting patient stay in the hospitals. The dataset used below is from a kaggle competition and we will investigate if it is possible to help predict patient stay duration.\n"
   ]
  },
  {
   "cell_type": "code",
   "execution_count": 1,
   "metadata": {},
   "outputs": [],
   "source": [
    "# Loading packages\n",
    "import warnings\n",
    "warnings.filterwarnings(\"ignore\")\n",
    "\n",
    "\n",
    "import pandas as pd\n",
    "import numpy as np \n",
    "import seaborn as sns \n",
    "import math \n",
    "import matplotlib.pyplot as plt\n",
    "import sklearn as svm\n",
    "from sklearn import metrics\n",
    "\n",
    "from sklearn.preprocessing import LabelEncoder\n",
    "\n",
    "## ML algorithms\n",
    "from sklearn.linear_model import LogisticRegression\n",
    "from sklearn.linear_model import LinearRegression\n",
    "from sklearn.ensemble import RandomForestClassifier \n",
    "#from sklearn.ensemble import DecisionTree\n",
    "\n",
    "# Pre-processing algorithms\n",
    "from sklearn.model_selection import train_test_split\n",
    "from sklearn.metrics import precision_recall_curve \n",
    "from sklearn.metrics import confusion_matrix\n",
    "from sklearn.metrics import precision_score, recall_score, f1_score\n",
    "from sklearn import metrics\n",
    "from sklearn.preprocessing import StandardScaler\n",
    "\n",
    "\n",
    "%matplotlib inline\n",
    "#pd.set_option('display.max_columns', None)\n",
    "#sns.set_theme(style=\"ticks\", color_codes=True)\n"
   ]
  },
  {
   "cell_type": "code",
   "execution_count": 2,
   "metadata": {},
   "outputs": [],
   "source": [
    "# Load Dataset\n",
    "df = pd.read_csv('healthcare/train_data.csv')\n",
    "test_data = pd.read_csv('healthcare/test_data.csv')\n",
    "# carry out test to ensure that the split is even\n"
   ]
  },
  {
   "cell_type": "code",
   "execution_count": 3,
   "metadata": {},
   "outputs": [
    {
     "name": "stdout",
     "output_type": "stream",
     "text": [
      "   case_id  Hospital_code Hospital_type_code  City_Code_Hospital  \\\n",
      "0        1              8                  c                   3   \n",
      "1        2              2                  c                   5   \n",
      "\n",
      "  Hospital_region_code  Available Extra Rooms in Hospital    Department  \\\n",
      "0                    Z                                  3  radiotherapy   \n",
      "1                    Z                                  2  radiotherapy   \n",
      "\n",
      "  Ward_Type Ward_Facility_Code  Bed Grade  patientid  City_Code_Patient  \\\n",
      "0         R                  F        2.0      31397                7.0   \n",
      "1         S                  F        2.0      31397                7.0   \n",
      "\n",
      "  Type of Admission Severity of Illness  Visitors with Patient    Age  \\\n",
      "0         Emergency             Extreme                      2  51-60   \n",
      "1            Trauma             Extreme                      2  51-60   \n",
      "\n",
      "   Admission_Deposit   Stay  \n",
      "0             4911.0   0-10  \n",
      "1             5954.0  41-50  \n"
     ]
    }
   ],
   "source": [
    "# EDA \n",
    "print(df.head(2))\n",
    "df.columns\n",
    "# rename column names\n",
    "df.columns = [x.lower().replace(' ','_') for x in df.columns]\n",
    "\n",
    "\n"
   ]
  },
  {
   "cell_type": "code",
   "execution_count": 4,
   "metadata": {},
   "outputs": [
    {
     "name": "stdout",
     "output_type": "stream",
     "text": [
      "['radiotherapy' 'anesthesia' 'gynecology' 'TB & Chest disease' 'surgery']\n"
     ]
    }
   ],
   "source": [
    "print(df.department.unique())"
   ]
  },
  {
   "cell_type": "markdown",
   "metadata": {},
   "source": [
    "### Missing data\n",
    "By checking our missing data, we can see that `1.432%`  of the `city_code_patient` data is missing from the column and `0.0355%` of the `bed_grade` is missing. \n",
    "Since this codes are categorical, we decide its safer to  drop the columns from our dataset.\n"
   ]
  },
  {
   "cell_type": "code",
   "execution_count": 5,
   "metadata": {},
   "outputs": [
    {
     "name": "stdout",
     "output_type": "stream",
     "text": [
      "case_id                              0.0000\n",
      "hospital_code                        0.0000\n",
      "hospital_type_code                   0.0000\n",
      "city_code_hospital                   0.0000\n",
      "hospital_region_code                 0.0000\n",
      "available_extra_rooms_in_hospital    0.0000\n",
      "department                           0.0000\n",
      "ward_type                            0.0000\n",
      "ward_facility_code                   0.0000\n",
      "bed_grade                            0.0355\n",
      "patientid                            0.0000\n",
      "city_code_patient                    1.4232\n",
      "type_of_admission                    0.0000\n",
      "severity_of_illness                  0.0000\n",
      "visitors_with_patient                0.0000\n",
      "age                                  0.0000\n",
      "admission_deposit                    0.0000\n",
      "stay                                 0.0000\n",
      "dtype: float64\n",
      "[ 7.  8.  2.  5.  6.  3.  4.  1.  9. 14. nan 25. 15. 12. 10. 28. 24. 23.\n",
      " 20. 11. 13. 21. 18. 16. 26. 27. 22. 19. 31. 34. 32. 30. 29. 37. 33. 35.\n",
      " 36. 38.]\n"
     ]
    }
   ],
   "source": [
    "\n",
    "print(round(((df.isnull().sum())/df.shape[0] *100),4))\n",
    "#print(df.city_code_patient.isnull().fillna(mean()))\n",
    "#from sklearn.impute import SimpleImputer\n",
    "#my_imputer = SimpleImputer()\n",
    "print(df.city_code_patient.unique())\n",
    "\n",
    "cols_with_missing = [col for col in df.columns\n",
    "                     if df[col].isnull().any()]\n",
    "\n",
    "# Drop columns in training and validation data\n",
    "df = df.drop(cols_with_missing, axis=1)\n"
   ]
  },
  {
   "cell_type": "markdown",
   "metadata": {},
   "source": [
    "### Encoding"
   ]
  },
  {
   "cell_type": "code",
   "execution_count": 6,
   "metadata": {},
   "outputs": [
    {
     "name": "stdout",
     "output_type": "stream",
     "text": [
      "count    318438.000000\n",
      "mean       4880.749392\n",
      "std        1086.776254\n",
      "min        1800.000000\n",
      "25%        4186.000000\n",
      "50%        4741.000000\n",
      "75%        5409.000000\n",
      "max       11008.000000\n",
      "Name: admission_deposit, dtype: float64\n"
     ]
    },
    {
     "data": {
      "text/plain": [
       "(4500, 5000]      71973\n",
       "(4000, 4500]      64905\n",
       "(5000, 5500]      51118\n",
       "(3500, 4000]      36926\n",
       "(5500, 6000]      30108\n",
       "(6000, 6500]      17117\n",
       "(3000, 3500]      14951\n",
       "(6500, 7000]      10081\n",
       "(7000, 7500]       5960\n",
       "(2500, 3000]       5102\n",
       "(7500, 8000]       3766\n",
       "(8000, 8500]       2385\n",
       "(8500, 9000]       1413\n",
       "(2000, 2500]       1306\n",
       "(9000, 9500]        649\n",
       "(9500, 10000]       327\n",
       "(1500, 2000]        173\n",
       "(10000, 10500]      125\n",
       "(10500, 11000]       49\n",
       "(11000, 11500]        4\n",
       "Name: admission_deposit_mapped, dtype: int64"
      ]
     },
     "execution_count": 6,
     "metadata": {},
     "output_type": "execute_result"
    }
   ],
   "source": [
    "\n",
    "#Encoding numerical columns\n",
    "# Here we can improve the features futher by converting admission_deposit into a categorical vaiable by placing data into bins\n",
    "print(df.admission_deposit.describe())\n",
    "df.admission_deposit.value_counts(bins=5)\n",
    "\n",
    "\n",
    "custom_bucket_array = list(range(1500,12000,500))\n",
    "#print(custom_bucket_array)\n",
    "#df['admission_deposit_mod']= pd.cut(df['admissison_deposit'],np.array(custom_bucket_array) )\n",
    "#print(df.admission_deposit.value_counts())\n",
    "\n",
    "df['admission_deposit_mapped']=pd.cut(df['admission_deposit'],np.array(custom_bucket_array) )\n",
    "df.admission_deposit_mapped.value_counts()"
   ]
  },
  {
   "cell_type": "code",
   "execution_count": 7,
   "metadata": {},
   "outputs": [
    {
     "name": "stdout",
     "output_type": "stream",
     "text": [
      "['hospital_type_code', 'hospital_region_code', 'department', 'ward_type', 'ward_facility_code', 'type_of_admission', 'severity_of_illness', 'age', 'stay']\n"
     ]
    }
   ],
   "source": [
    "# # columns that are object types\n",
    "s = (df.dtypes == 'object')\n",
    "obj_columns = list(s[s].index)\n",
    "\n",
    "print(obj_columns)\n",
    "# The following columns are all categorical variables which need to be tranformed\n",
    "# obj_columns = ['hospital_type_code', 'hospital_region_code', 'department', 'ward_type',\n",
    "#'ward_facility_code', 'type_of_admission', 'severity_of_illness', 'age', 'stay']"
   ]
  },
  {
   "cell_type": "code",
   "execution_count": 8,
   "metadata": {},
   "outputs": [],
   "source": [
    "# Encoding categorical variables\n",
    "encoder = LabelEncoder()\n",
    "\n",
    "for i in range(len(obj_columns)):\n",
    "\n",
    "    df1_encoded= encoder.fit_transform(df[obj_columns[i]])\n",
    "    name = str(obj_columns[i] + '_mapped')\n",
    "    df[name] = df1_encoded"
   ]
  },
  {
   "cell_type": "code",
   "execution_count": 9,
   "metadata": {},
   "outputs": [
    {
     "name": "stdout",
     "output_type": "stream",
     "text": [
      "   case_id  hospital_code hospital_type_code  city_code_hospital  \\\n",
      "0        1              8                  c                   3   \n",
      "1        2              2                  c                   5   \n",
      "2        3             10                  e                   1   \n",
      "\n",
      "  hospital_region_code  available_extra_rooms_in_hospital    department  \\\n",
      "0                    Z                                  3  radiotherapy   \n",
      "1                    Z                                  2  radiotherapy   \n",
      "2                    X                                  2    anesthesia   \n",
      "\n",
      "  ward_type ward_facility_code  patientid  ... admission_deposit_mapped  \\\n",
      "0         R                  F      31397  ...             (4500, 5000]   \n",
      "1         S                  F      31397  ...             (5500, 6000]   \n",
      "2         S                  E      31397  ...             (4500, 5000]   \n",
      "\n",
      "  hospital_type_code_mapped  hospital_region_code_mapped department_mapped  \\\n",
      "0                         2                            2                 3   \n",
      "1                         2                            2                 3   \n",
      "2                         4                            0                 1   \n",
      "\n",
      "   ward_type_mapped ward_facility_code_mapped type_of_admission_mapped  \\\n",
      "0                 2                         5                        0   \n",
      "1                 3                         5                        1   \n",
      "2                 3                         4                        1   \n",
      "\n",
      "   severity_of_illness_mapped  age_mapped  stay_mapped  \n",
      "0                           0           5            0  \n",
      "1                           0           5            4  \n",
      "2                           0           5            3  \n",
      "\n",
      "[3 rows x 26 columns]\n"
     ]
    }
   ],
   "source": [
    "print(df.head(3))"
   ]
  },
  {
   "cell_type": "code",
   "execution_count": 10,
   "metadata": {},
   "outputs": [
    {
     "name": "stdout",
     "output_type": "stream",
     "text": [
      "[('hospital_region_code', 3), ('type_of_admission', 3), ('severity_of_illness', 3), ('department', 5), ('ward_type', 6), ('ward_facility_code', 6), ('hospital_type_code', 7), ('age', 10), ('stay', 11)]\n"
     ]
    }
   ],
   "source": [
    "# number of unique values in each row\n",
    "#print(df.nunique())\n",
    "\n",
    "# Get number of unique entries in each column with categorical data\n",
    "obj_nunique = list(map(lambda col: df[col].nunique(), obj_columns))\n",
    "d = dict(zip(obj_columns, obj_nunique))\n",
    "\n",
    "# Print number of unique entries by column, in ascending order\n",
    "print(sorted(d.items(), key=lambda x: x[1]))\n"
   ]
  },
  {
   "cell_type": "code",
   "execution_count": null,
   "metadata": {},
   "outputs": [],
   "source": []
  },
  {
   "cell_type": "code",
   "execution_count": 11,
   "metadata": {},
   "outputs": [
    {
     "data": {
      "image/png": "[encoded data removed]",
      "text/plain": [
       "<Figure size 360x360 with 1 Axes>"
      ]
     },
     "metadata": {
      "needs_background": "light"
     },
     "output_type": "display_data"
    }
   ],
   "source": [
    "sns.catplot(x=\"admission_deposit\", y=\"age\",kind=\"violin\",data=df)\n",
    "plt.title('distribution of admission_deposit vs age')\n",
    "plt.show()"
   ]
  },
  {
   "cell_type": "markdown",
   "metadata": {},
   "source": [
    "We will use correlation to find possible features that we can use to describe the corrrelation in our Data."
   ]
  },
  {
   "cell_type": "code",
   "execution_count": 14,
   "metadata": {},
   "outputs": [
    {
     "name": "stdout",
     "output_type": "stream",
     "text": [
      "stay_mapped                          1.000000\n",
      "visitors_with_patient                0.537537\n",
      "ward_type_mapped                     0.185191\n",
      "age_mapped                           0.094163\n",
      "hospital_type_code_mapped            0.058592\n",
      "hospital_code                        0.042846\n",
      "department_mapped                    0.033287\n",
      "type_of_admission_mapped             0.023617\n",
      "hospital_region_code_mapped          0.011905\n",
      "city_code_hospital                   0.006381\n",
      "patientid                            0.001125\n",
      "ward_facility_code_mapped           -0.004552\n",
      "severity_of_illness_mapped          -0.031188\n",
      "admission_deposit                   -0.052077\n",
      "case_id                             -0.053882\n",
      "available_extra_rooms_in_hospital   -0.121120\n",
      "Name: stay_mapped, dtype: float64\n",
      "visitors_with_patient        0.537537\n",
      "hospital_type_code_mapped    0.058592\n",
      "ward_type_mapped             0.185191\n",
      "age_mapped                   0.094163\n",
      "stay_mapped                  1.000000\n",
      "Name: stay_mapped, dtype: float64\n"
     ]
    }
   ],
   "source": [
    "\n",
    "correlations = df.corr()\n",
    "\n",
    "print(correlations.stay_mapped.sort_values(ascending=False))\n",
    "print(correlations.stay_mapped[(correlations.stay_mapped > 0.05) ])"
   ]
  },
  {
   "cell_type": "code",
   "execution_count": 15,
   "metadata": {},
   "outputs": [
    {
     "data": {
      "text/plain": [
       "<bound method Index.unique of Index(['case_id', 'hospital_code', 'hospital_type_code', 'city_code_hospital',\n",
       "       'hospital_region_code', 'available_extra_rooms_in_hospital',\n",
       "       'department', 'ward_type', 'ward_facility_code', 'patientid',\n",
       "       'type_of_admission', 'severity_of_illness', 'visitors_with_patient',\n",
       "       'age', 'admission_deposit', 'stay', 'admission_deposit_mapped',\n",
       "       'hospital_type_code_mapped', 'hospital_region_code_mapped',\n",
       "       'department_mapped', 'ward_type_mapped', 'ward_facility_code_mapped',\n",
       "       'type_of_admission_mapped', 'severity_of_illness_mapped', 'age_mapped',\n",
       "       'stay_mapped'],\n",
       "      dtype='object')>"
      ]
     },
     "execution_count": 15,
     "metadata": {},
     "output_type": "execute_result"
    }
   ],
   "source": [
    "df.columns.unique\n"
   ]
  },
  {
   "cell_type": "markdown",
   "metadata": {},
   "source": [
    "Suprisingly `admission_deposit` has a very low correlation with expected length of stay\n"
   ]
  },
  {
   "cell_type": "code",
   "execution_count": 16,
   "metadata": {},
   "outputs": [
    {
     "data": {
      "image/png": "[encoded data removed]",
      "text/plain": [
       "<Figure size 432x288 with 1 Axes>"
      ]
     },
     "metadata": {
      "needs_background": "light"
     },
     "output_type": "display_data"
    }
   ],
   "source": [
    "plt.bar(df.available_extra_rooms_in_hospital.head(500), df.stay_mapped.head(500))\n",
    "plt.xlabel('extra room');plt.ylabel('lenght of stay')\n",
    "plt.show()"
   ]
  },
  {
   "cell_type": "code",
   "execution_count": 17,
   "metadata": {},
   "outputs": [
    {
     "data": {
      "image/png": "[encoded data removed]",
      "text/plain": [
       "<Figure size 432x288 with 1 Axes>"
      ]
     },
     "metadata": {
      "needs_background": "light"
     },
     "output_type": "display_data"
    }
   ],
   "source": [
    "# quick glance to see that \n",
    "A= df.age.value_counts(normalize=True).sort_index()\n",
    "A\n",
    "plt.bar(A.index, A.values*100)\n",
    "plt.xlabel('age range')\n",
    "plt.ylabel('percentage')\n",
    "\n",
    "plt.show()"
   ]
  },
  {
   "cell_type": "markdown",
   "metadata": {},
   "source": [
    "Taking a quick glance,we can see a high correlation of 0.53 between `visitors_of_patient` and the `length of stay`.\n"
   ]
  },
  {
   "cell_type": "code",
   "execution_count": 29,
   "metadata": {
    "scrolled": true
   },
   "outputs": [
    {
     "data": {
      "image/png": "[encoded data removed]",
      "text/plain": [
       "<Figure size 432x288 with 2 Axes>"
      ]
     },
     "metadata": {
      "needs_background": "light"
     },
     "output_type": "display_data"
    }
   ],
   "source": [
    "\n",
    "fig = plt.figure()\n",
    "ax = fig.add_subplot(111)\n",
    "cax = ax.matshow(correlations[1:15],cmap='coolwarm', vmin=-1, vmax=1)\n",
    "fig.colorbar(cax)\n",
    "ticks = np.arange(0,len(df.columns[1:15]),1)\n",
    "ax.set_xticks(ticks)\n",
    "plt.xticks(rotation=90)\n",
    "ax.set_yticks(ticks)\n",
    "ax.set_xticklabels(df.columns[1:15])\n",
    "ax.set_yticklabels(df.columns[1:15])\n",
    "plt.show()\n"
   ]
  },
  {
   "cell_type": "markdown",
   "metadata": {},
   "source": [
    "\n",
    "\n",
    "Features selected for Machine Learning Training."
   ]
  },
  {
   "cell_type": "code",
   "execution_count": 30,
   "metadata": {},
   "outputs": [],
   "source": [
    "features = ['visitors_with_patient', 'ward_type_mapped', 'age_mapped', 'hospital_type_code_mapped', 'available_extra_rooms_in_hospital','case_id', 'admission_deposit_mapped']"
   ]
  },
  {
   "cell_type": "code",
   "execution_count": 31,
   "metadata": {},
   "outputs": [],
   "source": [
    "labels = ['stay_mapped']"
   ]
  },
  {
   "cell_type": "code",
   "execution_count": 32,
   "metadata": {},
   "outputs": [
    {
     "name": "stdout",
     "output_type": "stream",
     "text": [
      "[[2 2 5 ... 3 1 Interval(4500, 5000, closed='right')]\n",
      " [2 3 5 ... 2 2 Interval(5500, 6000, closed='right')]\n",
      " [2 3 5 ... 2 3 Interval(4500, 5000, closed='right')]\n",
      " ...\n",
      " [3 2 7 ... 3 318436 Interval(4000, 4500, closed='right')]\n",
      " [5 1 1 ... 3 318437 Interval(3500, 4000, closed='right')]\n",
      " [2 1 1 ... 5 318438 Interval(4500, 5000, closed='right')]]\n",
      "[[0]\n",
      " [4]\n",
      " [3]\n",
      " ...\n",
      " [1]\n",
      " [1]\n",
      " [0]]\n"
     ]
    }
   ],
   "source": [
    "#Training\n",
    "X = np.array(df[features])\n",
    "print(X)\n",
    "y = np.array(df[labels])\n",
    "print(y)\n"
   ]
  },
  {
   "cell_type": "code",
   "execution_count": 33,
   "metadata": {},
   "outputs": [],
   "source": [
    "from sklearn.pipeline import Pipeline\n",
    "from sklearn.model_selection import GridSearchCV\n",
    "\n",
    "from time import time"
   ]
  },
  {
   "cell_type": "markdown",
   "metadata": {},
   "source": [
    "Split our data and begin to create our training pipeline which will use gridsearch and save our trained model to a dictionary."
   ]
  },
  {
   "cell_type": "code",
   "execution_count": 35,
   "metadata": {},
   "outputs": [],
   "source": [
    "X_train, X_test, y_train, y_test =  train_test_split(X, y, test_size=0.2, random_state=0,shuffle=False)\n",
    "\n",
    "pipe_lr = Pipeline([('scl', StandardScaler()),\n",
    "    ('clf', LogisticRegression(random_state=0))])\n",
    "\n"
   ]
  },
  {
   "cell_type": "code",
   "execution_count": 36,
   "metadata": {},
   "outputs": [],
   "source": [
    "\n",
    "# Grid search\n",
    "param_range_fl = [1.0, 0.5, 0.1]\n",
    "\n",
    "grid_params_lr = [{'clf__penalty': ['l1', 'l2'],\n",
    "    'clf__C': param_range_fl,\n",
    "    'clf__solver': ['liblinear']}] \n",
    "\n",
    "gs_lr = GridSearchCV(estimator=pipe_lr,\n",
    "    param_grid=grid_params_lr,\n",
    "    scoring='accuracy',\n",
    "    cv=2)\n",
    "grids = [gs_lr]\n",
    "\n",
    "grid_dict = {0: 'Logistic Regression'}\n"
   ]
  },
  {
   "cell_type": "code",
   "execution_count": null,
   "metadata": {},
   "outputs": [],
   "source": [
    "start =time()\n",
    "# Fit the grid search objects\n",
    "print('Performing model optimizations...')\n",
    "best_acc = 0.0\n",
    "best_clf = 0\n",
    "best_gs = ''\n",
    "for idx, gs in enumerate(grids):\n",
    "    print('\\nEstimator: %s' % grid_dict[idx])\t\n",
    "    # Fit grid search\t\n",
    "    gs.fit(X_train, y_train)\n",
    "    # Best params\n",
    "    print('Best params: %s' % gs.best_params_)\n",
    "    # Best training data accuracy\n",
    "    print('Best training accuracy: %.3f' % gs.best_score_)\n",
    "    # Predict on test data with best params\n",
    "    y_pred = gs.predict(X_test)\n",
    "    # Test data accuracy of model with best params\n",
    "    print('Test set accuracy score for best params: %.3f ' % metrics.accuracy_score(y_test, y_pred))\n",
    "    # Track best (highest test accuracy) model\n",
    "    if metrics.accuracy_score(y_test, y_pred) > best_acc:\n",
    "        best_acc = metrics.accuracy_score(y_test, y_pred)\n",
    "        best_gs = gs\n",
    "        best_clf = idx\n",
    "    end = time()\n",
    "    print(\"Trained {} in {:.1f} seconds\".format(grid_dict[idx], (end - start)*10))\n",
    "\n",
    "\n",
    "\n",
    "print('\\nClassifier with best test set accuracy: %s' % grid_dict[best_clf])"
   ]
  },
  {
   "cell_type": "markdown",
   "metadata": {},
   "source": [
    "We save our model in `pickle` format in order to be able to use it later on and NOT have to train again!! "
   ]
  },
  {
   "cell_type": "code",
   "execution_count": 41,
   "metadata": {},
   "outputs": [],
   "source": [
    "# Save best grid search pipeline to file\n",
    "# dump_file = 'best_gs_pipeline.pkl'\n",
    "# joblib.dump(best_gs, dump_file, compress=1)\n",
    "# print('\\nSaved %s grid search pipeline to file: %s' % (grid_dict[best_clf], dump_file))\n"
   ]
  },
  {
   "cell_type": "markdown",
   "metadata": {},
   "source": [
    "\n",
    "After  our first initial training, we can see that:\n",
    "- randomforest classifier =  training score of 0.30,\n",
    "- linear with score of 0.26 \n",
    "- logistic with score of 0.25\n",
    "\n",
    "\n",
    "\n"
   ]
  },
  {
   "cell_type": "markdown",
   "metadata": {},
   "source": [
    "## Conclusion\n",
    "\n",
    "As we have seen from our results, we are able to predict with an accuracy of `30%` which is good but there is alot of room for improvement.\n",
    "\n",
    "More Feature engineering can be done:\n",
    "Using \n"
   ]
  }
 ],
 "metadata": {
  "kernelspec": {
   "display_name": "Python 3",
   "language": "python",
   "name": "python3"
  },
  "language_info": {
   "codemirror_mode": {
    "name": "ipython",
    "version": 3
   },
   "file_extension": ".py",
   "mimetype": "text/x-python",
   "name": "python",
   "nbconvert_exporter": "python",
   "pygments_lexer": "ipython3",
   "version": "3.6.12"
  }
 },
 "nbformat": 4,
 "nbformat_minor": 4
}
